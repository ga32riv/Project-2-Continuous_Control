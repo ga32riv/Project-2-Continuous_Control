{
 "cells": [
  {
   "cell_type": "markdown",
   "metadata": {},
   "source": [
    "# Continuous Control\n",
    "\n",
    "---\n",
    "\n",
    "You are welcome to use this coding environment to train your agent for the project.  Follow the instructions below to get started!\n",
    "\n",
    "### 1. Start the Environment\n",
    "\n",
    "Run the next code cell to install a few packages.  This line will take a few minutes to run!"
   ]
  },
  {
   "cell_type": "code",
   "execution_count": 1,
   "metadata": {},
   "outputs": [
    {
     "name": "stdout",
     "output_type": "stream",
     "text": [
      "\u001b[31mtensorflow 1.7.1 has requirement numpy>=1.13.3, but you'll have numpy 1.12.1 which is incompatible.\u001b[0m\n",
      "\u001b[31mipython 6.5.0 has requirement prompt-toolkit<2.0.0,>=1.0.15, but you'll have prompt-toolkit 3.0.16 which is incompatible.\u001b[0m\n"
     ]
    }
   ],
   "source": [
    "!pip -q install ./python"
   ]
  },
  {
   "cell_type": "markdown",
   "metadata": {},
   "source": [
    "The environments corresponding to both versions of the environment are already saved in the Workspace and can be accessed at the file paths provided below.  \n",
    "\n",
    "Please select one of the two options below for loading the environment."
   ]
  },
  {
   "cell_type": "code",
   "execution_count": 2,
   "metadata": {},
   "outputs": [
    {
     "name": "stderr",
     "output_type": "stream",
     "text": [
      "INFO:unityagents:\n",
      "'Academy' started successfully!\n",
      "Unity Academy name: Academy\n",
      "        Number of Brains: 1\n",
      "        Number of External Brains : 1\n",
      "        Lesson number : 0\n",
      "        Reset Parameters :\n",
      "\t\tgoal_speed -> 1.0\n",
      "\t\tgoal_size -> 5.0\n",
      "Unity brain name: ReacherBrain\n",
      "        Number of Visual Observations (per agent): 0\n",
      "        Vector Observation space type: continuous\n",
      "        Vector Observation space size (per agent): 33\n",
      "        Number of stacked Vector Observation: 1\n",
      "        Vector Action space type: continuous\n",
      "        Vector Action space size (per agent): 4\n",
      "        Vector Action descriptions: , , , \n"
     ]
    }
   ],
   "source": [
    "from unityagents import UnityEnvironment\n",
    "import numpy as np\n",
    "\n",
    "# select this option to load version 1 (with a single agent) of the environment\n",
    "# env = UnityEnvironment(file_name='/data/Reacher_One_Linux_NoVis/Reacher_One_Linux_NoVis.x86_64')\n",
    "\n",
    "# select this option to load version 2 (with 20 agents) of the environment\n",
    "env = UnityEnvironment(file_name='/data/Reacher_Linux_NoVis/Reacher.x86_64')"
   ]
  },
  {
   "cell_type": "code",
   "execution_count": 3,
   "metadata": {},
   "outputs": [],
   "source": [
    "from ddpg_agent import Agent\n",
    "from collections import deque\n",
    "import matplotlib.pyplot as plt\n",
    "import numpy as np\n",
    "import random\n",
    "import time\n",
    "import torch\n",
    "import pickle"
   ]
  },
  {
   "cell_type": "markdown",
   "metadata": {},
   "source": [
    "Environments contain **_brains_** which are responsible for deciding the actions of their associated agents. Here we check for the first brain available, and set it as the default brain we will be controlling from Python."
   ]
  },
  {
   "cell_type": "code",
   "execution_count": 4,
   "metadata": {},
   "outputs": [],
   "source": [
    "# get the default brain\n",
    "brain_name = env.brain_names[0]\n",
    "brain = env.brains[brain_name]"
   ]
  },
  {
   "cell_type": "markdown",
   "metadata": {},
   "source": [
    "### 2. Examine the State and Action Spaces\n",
    "\n",
    "Run the code cell below to print some information about the environment."
   ]
  },
  {
   "cell_type": "code",
   "execution_count": 5,
   "metadata": {},
   "outputs": [
    {
     "name": "stdout",
     "output_type": "stream",
     "text": [
      "Number of agents: 20\n",
      "Size of each action: 4\n",
      "There are 20 agents. Each observes a state with length: 33\n",
      "The state for the first agent looks like: [  0.00000000e+00  -4.00000000e+00   0.00000000e+00   1.00000000e+00\n",
      "  -0.00000000e+00  -0.00000000e+00  -4.37113883e-08   0.00000000e+00\n",
      "   0.00000000e+00   0.00000000e+00   0.00000000e+00   0.00000000e+00\n",
      "   0.00000000e+00   0.00000000e+00  -1.00000000e+01   0.00000000e+00\n",
      "   1.00000000e+00  -0.00000000e+00  -0.00000000e+00  -4.37113883e-08\n",
      "   0.00000000e+00   0.00000000e+00   0.00000000e+00   0.00000000e+00\n",
      "   0.00000000e+00   0.00000000e+00   5.75471878e+00  -1.00000000e+00\n",
      "   5.55726624e+00   0.00000000e+00   1.00000000e+00   0.00000000e+00\n",
      "  -1.68164849e-01]\n"
     ]
    }
   ],
   "source": [
    "# reset the environment\n",
    "env_info = env.reset(train_mode=True)[brain_name]\n",
    "\n",
    "# number of agents\n",
    "num_agents = len(env_info.agents)\n",
    "print('Number of agents:', num_agents)\n",
    "\n",
    "# size of each action\n",
    "action_size = brain.vector_action_space_size\n",
    "print('Size of each action:', action_size)\n",
    "\n",
    "# examine the state space \n",
    "states = env_info.vector_observations\n",
    "state_size = states.shape[1]\n",
    "print('There are {} agents. Each observes a state with length: {}'.format(states.shape[0], state_size))\n",
    "print('The state for the first agent looks like:', states[0])"
   ]
  },
  {
   "cell_type": "markdown",
   "metadata": {},
   "source": [
    "### 3. Take Random Actions in the Environment\n",
    "\n",
    "In the next code cell, you will learn how to use the Python API to control the agent and receive feedback from the environment.\n",
    "\n",
    "Note that **in this coding environment, you will not be able to watch the agents while they are training**, and you should set `train_mode=True` to restart the environment."
   ]
  },
  {
   "cell_type": "code",
   "execution_count": 6,
   "metadata": {},
   "outputs": [
    {
     "name": "stdout",
     "output_type": "stream",
     "text": [
      "Total score (averaged over agents) this episode: 0.1184999973513186\n"
     ]
    }
   ],
   "source": [
    "env_info = env.reset(train_mode=True)[brain_name]      # reset the environment    \n",
    "states = env_info.vector_observations                  # get the current state (for each agent)\n",
    "scores = np.zeros(num_agents)                          # initialize the score (for each agent)\n",
    "while True:\n",
    "    actions = np.random.randn(num_agents, action_size) # select an action (for each agent)\n",
    "    actions = np.clip(actions, -1, 1)                  # all actions between -1 and 1\n",
    "    env_info = env.step(actions)[brain_name]           # send all actions to tne environment\n",
    "    next_states = env_info.vector_observations         # get next state (for each agent)\n",
    "    rewards = env_info.rewards                         # get reward (for each agent)\n",
    "    dones = env_info.local_done                        # see if episode finished\n",
    "    scores += env_info.rewards                         # update the score (for each agent)\n",
    "    states = next_states                               # roll over states to next time step\n",
    "    if np.any(dones):                                  # exit loop if episode finished\n",
    "        break\n",
    "print('Total score (averaged over agents) this episode: {}'.format(np.mean(scores)))"
   ]
  },
  {
   "cell_type": "markdown",
   "metadata": {},
   "source": [
    "When finished, you can close the environment."
   ]
  },
  {
   "cell_type": "code",
   "execution_count": 7,
   "metadata": {},
   "outputs": [],
   "source": [
    "#env.close()"
   ]
  },
  {
   "cell_type": "markdown",
   "metadata": {},
   "source": [
    "### 4. It's Your Turn!\n",
    "\n",
    "Now it's your turn to train your own agent to solve the environment!  A few **important notes**:\n",
    "- When training the environment, set `train_mode=True`, so that the line for resetting the environment looks like the following:\n",
    "```python\n",
    "env_info = env.reset(train_mode=True)[brain_name]\n",
    "```\n",
    "- To structure your work, you're welcome to work directly in this Jupyter notebook, or you might like to start over with a new file!  You can see the list of files in the workspace by clicking on **_Jupyter_** in the top left corner of the notebook.\n",
    "- In this coding environment, you will not be able to watch the agents while they are training.  However, **_after training the agents_**, you can download the saved model weights to watch the agents on your own machine! "
   ]
  },
  {
   "cell_type": "code",
   "execution_count": 8,
   "metadata": {},
   "outputs": [],
   "source": [
    "def ddpg(agent, n_episodes=500, max_t=1000, solved_score=30.0, consec_episodes=100, print_every=1, train_mode=True,\n",
    "         actor_local_path='./trained_model/DDPG_actor_local_model.pth', \n",
    "         actor_target_path='./trained_model/DDPG_actor_target_model.pth',\n",
    "         critic_local_path='./trained_model/DDPG_critic_local_model.pth', \n",
    "         critic_target_path='./trained_model/DDPG_critic__target_model.pth', \n",
    "         mean_scores_path='./result_figures/mean_scores.pickle',\n",
    "         moving_avgs_path = './result_figures/moving_avgs.pickle',\n",
    "         i_episode_start = 1,\n",
    "         mean_scores= [],\n",
    "         moving_avgs=[]):\n",
    "    \n",
    "    \"\"\"Deep Deterministic Policy Gradient (DDPG)\n",
    "    \n",
    "    Params\n",
    "    ======\n",
    "        n_episodes (int)      : maximum number of training episodes\n",
    "        max_t (int)           : maximum number of timesteps per episode\n",
    "        train_mode (bool)     : if 'True' set environment to training mode\n",
    "        solved_score (float)  : min avg score over consecutive episodes\n",
    "        consec_episodes (int) : number of consecutive episodes used to calculate score\n",
    "        print_every (int)     : interval to display results\n",
    "        actor_path (str)      : directory to store actor network weights\n",
    "        critic_path (str)     : directory to store critic network weights\n",
    "\n",
    "    \"\"\"\n",
    "    #mean_scores = []                               # list of mean scores from each episode\n",
    "    min_scores = []                                # list of lowest scores from each episode\n",
    "    max_scores = []                                # list of highest scores from each episode\n",
    "    best_score = -np.inf\n",
    "    scores_window = deque(maxlen=consec_episodes)  # mean scores from most recent episodes\n",
    "    scores_window = mean_scores\n",
    "    #moving_avgs = []                               # list of moving averages\n",
    "    start_time = time.time()\n",
    "    \n",
    "    for i_episode in range(i_episode_start, n_episodes+1):\n",
    "        env_info = env.reset(train_mode=train_mode)[brain_name] # reset environment\n",
    "        states = env_info.vector_observations                   # get current state for each agent      \n",
    "        scores = np.zeros(num_agents)                           # initialize score for each agent\n",
    "        agent.reset()\n",
    "        \n",
    "        for t in range(max_t):\n",
    "            actions = agent.act(states, add_noise=True)         # select an action\n",
    "            env_info = env.step(actions)[brain_name]            # send actions to environment\n",
    "            next_states = env_info.vector_observations          # get next state\n",
    "            rewards = env_info.rewards                          # get reward\n",
    "            dones = env_info.local_done                         # see if episode has finished\n",
    "            # save experience to replay buffer, perform learning step at defined interval\n",
    "            for state, action, reward, next_state, done in zip(states, actions, rewards, next_states, dones):\n",
    "                agent.step(state, action, reward, next_state, done, t)             \n",
    "            states = next_states\n",
    "            scores += rewards        \n",
    "            if np.any(dones):                                   # exit loop when episode ends\n",
    "                break\n",
    "        if i_episode % print_every == 0:\n",
    "            duration = time.time() - start_time\n",
    "        min_scores.append(np.min(scores))             # save lowest score for a single agent\n",
    "        max_scores.append(np.max(scores))             # save highest score for a single agent        \n",
    "        mean_scores.append(np.mean(scores))           # save mean score for the episode\n",
    "        scores_window.append(mean_scores[-1])         # save mean score to window\n",
    "        moving_avgs.append(np.mean(scores_window))    # save moving average\n",
    "        \n",
    "        if i_episode % print_every == 0:\n",
    "            print('\\rEpisode {} ({} sec)  -- \\tMin: {:.1f}\\tMax: {:.1f}\\tMean: {:.1f}\\tMov. Avg: {:.1f}'.format(\\\n",
    "                  i_episode, round(duration), min_scores[-1], max_scores[-1], mean_scores[-1], moving_avgs[-1]))\n",
    "            #print('\\rEpisode {} ({} sec)  \\tMean: {:.1f}\\tMov. Avg: {:.1f}'.format(\\\n",
    "            #      i_episode, round(duration), mean_scores[-1], moving_avgs[-1]))        \n",
    "#         if train_mode and mean_scores[-1] > best_score:\n",
    "            # save model information as soon as it has better performance\n",
    "#             with open(mean_scores_path, 'wb') as fp:\n",
    "#                 pickle.dump(mean_scores, fp)\n",
    "#             with open(moving_avgs_path, 'wb') as fp:\n",
    "#                 pickle.dump(moving_avgs, fp)\n",
    "#             torch.save(agent.actor_local.state_dict(), actor_local_path)\n",
    "#             torch.save(agent.actor_target.state_dict(), actor_target_path)\n",
    "#             torch.save(agent.critic_local.state_dict(), critic_local_path)\n",
    "#             torch.save(agent.critic_target.state_dict(), critic_target_path)\n",
    "                  \n",
    "        if moving_avgs[-1] >= solved_score and i_episode >= consec_episodes:\n",
    "            print('\\nEnvironment SOLVED in {} episodes!\\tMoving Average ={:.1f} over last {} episodes'.format(\\\n",
    "                        i_episode, moving_avgs[-1], consec_episodes))            \n",
    "#            with open(mean_scores_path, 'wb') as fp:\n",
    "#                pickle.dump(mean_scores, fp)\n",
    "#            with open(moving_avgs_path, 'wb') as fp:\n",
    "#                pickle.dump(moving_avgs, fp)\n",
    "#             torch.save(agent.actor_local.state_dict(), actor_local_path)\n",
    "#             torch.save(agent.actor_target.state_dict(), actor_target_path)\n",
    "#             torch.save(agent.critic_local.state_dict(), critic_local_path)\n",
    "#             torch.save(agent.critic_target.state_dict(), critic_target_path)\n",
    "            break\n",
    "        if i_episode % print_every == 0:\n",
    "            start_time = time.time()\n",
    "            \n",
    "    return mean_scores, moving_avgs\n",
    "\n",
    "\n",
    "\n",
    "\n"
   ]
  },
  {
   "cell_type": "code",
   "execution_count": 9,
   "metadata": {
    "scrolled": true
   },
   "outputs": [
    {
     "name": "stdout",
     "output_type": "stream",
     "text": [
      "Episode 1 (116 sec)  -- \tMin: 0.1\tMax: 2.5\tMean: 0.7\tMov. Avg: 0.7\n",
      "Episode 2 (119 sec)  -- \tMin: 0.6\tMax: 3.1\tMean: 1.6\tMov. Avg: 1.1\n",
      "Episode 3 (120 sec)  -- \tMin: 0.5\tMax: 4.9\tMean: 2.2\tMov. Avg: 1.5\n",
      "Episode 4 (120 sec)  -- \tMin: 1.4\tMax: 6.1\tMean: 3.1\tMov. Avg: 1.9\n",
      "Episode 5 (122 sec)  -- \tMin: 1.3\tMax: 5.3\tMean: 3.6\tMov. Avg: 2.2\n",
      "Episode 6 (122 sec)  -- \tMin: 0.7\tMax: 4.3\tMean: 2.5\tMov. Avg: 2.3\n",
      "Episode 7 (123 sec)  -- \tMin: 1.1\tMax: 9.0\tMean: 3.9\tMov. Avg: 2.5\n",
      "Episode 8 (125 sec)  -- \tMin: 1.6\tMax: 5.8\tMean: 4.1\tMov. Avg: 2.7\n",
      "Episode 9 (125 sec)  -- \tMin: 2.8\tMax: 9.1\tMean: 5.4\tMov. Avg: 3.0\n",
      "Episode 10 (127 sec)  -- \tMin: 3.1\tMax: 12.9\tMean: 6.0\tMov. Avg: 3.3\n",
      "Episode 11 (128 sec)  -- \tMin: 3.1\tMax: 8.2\tMean: 6.6\tMov. Avg: 3.6\n",
      "Episode 12 (129 sec)  -- \tMin: 3.3\tMax: 9.1\tMean: 6.7\tMov. Avg: 3.9\n",
      "Episode 13 (131 sec)  -- \tMin: 4.6\tMax: 14.5\tMean: 8.5\tMov. Avg: 4.2\n",
      "Episode 14 (132 sec)  -- \tMin: 5.5\tMax: 14.6\tMean: 9.6\tMov. Avg: 4.6\n",
      "Episode 15 (135 sec)  -- \tMin: 5.2\tMax: 13.5\tMean: 9.4\tMov. Avg: 4.9\n",
      "Episode 16 (136 sec)  -- \tMin: 6.8\tMax: 18.0\tMean: 11.9\tMov. Avg: 5.3\n",
      "Episode 17 (139 sec)  -- \tMin: 6.3\tMax: 17.3\tMean: 12.9\tMov. Avg: 5.8\n",
      "Episode 18 (140 sec)  -- \tMin: 9.2\tMax: 18.8\tMean: 13.8\tMov. Avg: 6.2\n",
      "Episode 19 (142 sec)  -- \tMin: 7.7\tMax: 19.7\tMean: 13.6\tMov. Avg: 6.6\n",
      "Episode 20 (144 sec)  -- \tMin: 9.9\tMax: 27.9\tMean: 18.0\tMov. Avg: 7.2\n",
      "Episode 21 (147 sec)  -- \tMin: 7.8\tMax: 25.9\tMean: 18.0\tMov. Avg: 7.7\n",
      "Episode 22 (149 sec)  -- \tMin: 11.6\tMax: 24.8\tMean: 18.5\tMov. Avg: 8.2\n",
      "Episode 23 (151 sec)  -- \tMin: 10.9\tMax: 22.2\tMean: 18.2\tMov. Avg: 8.6\n",
      "Episode 24 (154 sec)  -- \tMin: 9.2\tMax: 23.0\tMean: 17.6\tMov. Avg: 9.0\n",
      "Episode 25 (155 sec)  -- \tMin: 11.1\tMax: 25.3\tMean: 18.8\tMov. Avg: 9.4\n",
      "Episode 26 (159 sec)  -- \tMin: 8.9\tMax: 28.8\tMean: 20.3\tMov. Avg: 9.8\n",
      "Episode 27 (162 sec)  -- \tMin: 17.6\tMax: 25.9\tMean: 21.9\tMov. Avg: 10.3\n",
      "Episode 28 (164 sec)  -- \tMin: 17.9\tMax: 27.1\tMean: 21.0\tMov. Avg: 10.7\n",
      "Episode 29 (167 sec)  -- \tMin: 17.1\tMax: 31.3\tMean: 22.0\tMov. Avg: 11.0\n",
      "Episode 30 (169 sec)  -- \tMin: 16.3\tMax: 29.1\tMean: 22.7\tMov. Avg: 11.4\n",
      "Episode 31 (171 sec)  -- \tMin: 18.7\tMax: 33.2\tMean: 24.3\tMov. Avg: 11.9\n",
      "Episode 32 (173 sec)  -- \tMin: 21.0\tMax: 30.3\tMean: 25.9\tMov. Avg: 12.3\n",
      "Episode 33 (175 sec)  -- \tMin: 20.1\tMax: 33.5\tMean: 25.9\tMov. Avg: 12.7\n",
      "Episode 34 (179 sec)  -- \tMin: 21.4\tMax: 33.0\tMean: 27.2\tMov. Avg: 13.1\n",
      "Episode 35 (181 sec)  -- \tMin: 19.2\tMax: 29.4\tMean: 26.4\tMov. Avg: 13.5\n",
      "Episode 36 (183 sec)  -- \tMin: 24.7\tMax: 37.1\tMean: 29.8\tMov. Avg: 14.0\n",
      "Episode 37 (185 sec)  -- \tMin: 25.0\tMax: 36.1\tMean: 31.8\tMov. Avg: 14.4\n",
      "Episode 38 (186 sec)  -- \tMin: 26.4\tMax: 35.9\tMean: 31.5\tMov. Avg: 14.9\n",
      "Episode 39 (191 sec)  -- \tMin: 23.6\tMax: 35.3\tMean: 31.5\tMov. Avg: 15.3\n",
      "Episode 40 (193 sec)  -- \tMin: 21.7\tMax: 35.2\tMean: 29.8\tMov. Avg: 15.7\n",
      "Episode 41 (194 sec)  -- \tMin: 27.7\tMax: 39.4\tMean: 33.4\tMov. Avg: 16.1\n",
      "Episode 42 (197 sec)  -- \tMin: 29.3\tMax: 37.6\tMean: 33.2\tMov. Avg: 16.5\n",
      "Episode 43 (200 sec)  -- \tMin: 27.1\tMax: 39.1\tMean: 34.3\tMov. Avg: 16.9\n",
      "Episode 44 (204 sec)  -- \tMin: 28.0\tMax: 37.7\tMean: 34.8\tMov. Avg: 17.3\n",
      "Episode 45 (207 sec)  -- \tMin: 30.7\tMax: 38.7\tMean: 35.5\tMov. Avg: 17.7\n",
      "Episode 46 (208 sec)  -- \tMin: 34.9\tMax: 39.3\tMean: 37.0\tMov. Avg: 18.2\n",
      "Episode 47 (210 sec)  -- \tMin: 30.6\tMax: 38.4\tMean: 36.1\tMov. Avg: 18.5\n",
      "Episode 48 (213 sec)  -- \tMin: 33.2\tMax: 39.0\tMean: 37.3\tMov. Avg: 18.9\n",
      "Episode 49 (215 sec)  -- \tMin: 34.0\tMax: 39.0\tMean: 37.1\tMov. Avg: 19.3\n",
      "Episode 50 (218 sec)  -- \tMin: 34.8\tMax: 39.3\tMean: 37.5\tMov. Avg: 19.7\n",
      "Episode 51 (219 sec)  -- \tMin: 33.5\tMax: 39.5\tMean: 38.0\tMov. Avg: 20.0\n",
      "Episode 52 (219 sec)  -- \tMin: 35.1\tMax: 39.6\tMean: 38.2\tMov. Avg: 20.4\n",
      "Episode 53 (220 sec)  -- \tMin: 29.3\tMax: 39.4\tMean: 37.7\tMov. Avg: 20.7\n",
      "Episode 54 (221 sec)  -- \tMin: 30.6\tMax: 39.5\tMean: 38.0\tMov. Avg: 21.0\n",
      "Episode 55 (222 sec)  -- \tMin: 33.5\tMax: 39.5\tMean: 38.0\tMov. Avg: 21.3\n",
      "Episode 56 (222 sec)  -- \tMin: 34.0\tMax: 39.5\tMean: 38.0\tMov. Avg: 21.6\n",
      "Episode 57 (222 sec)  -- \tMin: 34.7\tMax: 39.4\tMean: 38.1\tMov. Avg: 21.9\n",
      "Episode 58 (221 sec)  -- \tMin: 35.6\tMax: 39.6\tMean: 38.1\tMov. Avg: 22.2\n",
      "Episode 59 (221 sec)  -- \tMin: 34.0\tMax: 39.6\tMean: 38.2\tMov. Avg: 22.5\n",
      "Episode 60 (220 sec)  -- \tMin: 37.4\tMax: 39.6\tMean: 38.7\tMov. Avg: 22.7\n",
      "Episode 61 (220 sec)  -- \tMin: 33.8\tMax: 39.5\tMean: 38.6\tMov. Avg: 23.0\n",
      "Episode 62 (220 sec)  -- \tMin: 35.3\tMax: 39.6\tMean: 38.4\tMov. Avg: 23.2\n",
      "Episode 63 (221 sec)  -- \tMin: 35.2\tMax: 39.5\tMean: 38.2\tMov. Avg: 23.5\n",
      "Episode 64 (221 sec)  -- \tMin: 35.1\tMax: 39.6\tMean: 38.3\tMov. Avg: 23.7\n",
      "Episode 65 (221 sec)  -- \tMin: 37.3\tMax: 39.6\tMean: 38.6\tMov. Avg: 23.9\n",
      "Episode 66 (223 sec)  -- \tMin: 34.7\tMax: 39.6\tMean: 38.7\tMov. Avg: 24.2\n",
      "Episode 67 (222 sec)  -- \tMin: 34.4\tMax: 39.5\tMean: 38.3\tMov. Avg: 24.4\n",
      "Episode 68 (221 sec)  -- \tMin: 37.3\tMax: 39.6\tMean: 39.1\tMov. Avg: 24.6\n",
      "Episode 69 (221 sec)  -- \tMin: 38.2\tMax: 39.6\tMean: 39.1\tMov. Avg: 24.8\n",
      "Episode 70 (221 sec)  -- \tMin: 37.5\tMax: 39.5\tMean: 39.0\tMov. Avg: 25.0\n",
      "Episode 71 (222 sec)  -- \tMin: 34.2\tMax: 39.5\tMean: 38.2\tMov. Avg: 25.2\n",
      "Episode 72 (222 sec)  -- \tMin: 36.5\tMax: 39.3\tMean: 38.2\tMov. Avg: 25.4\n",
      "Episode 73 (221 sec)  -- \tMin: 30.5\tMax: 39.6\tMean: 38.1\tMov. Avg: 25.5\n",
      "Episode 74 (221 sec)  -- \tMin: 36.0\tMax: 39.5\tMean: 38.5\tMov. Avg: 25.7\n",
      "Episode 75 (221 sec)  -- \tMin: 37.7\tMax: 39.6\tMean: 38.8\tMov. Avg: 25.9\n",
      "Episode 76 (221 sec)  -- \tMin: 37.3\tMax: 39.6\tMean: 39.1\tMov. Avg: 26.1\n",
      "Episode 77 (220 sec)  -- \tMin: 38.0\tMax: 39.6\tMean: 39.1\tMov. Avg: 26.2\n",
      "Episode 78 (220 sec)  -- \tMin: 34.5\tMax: 39.6\tMean: 38.6\tMov. Avg: 26.4\n",
      "Episode 79 (220 sec)  -- \tMin: 36.6\tMax: 39.6\tMean: 38.6\tMov. Avg: 26.6\n",
      "Episode 80 (220 sec)  -- \tMin: 33.3\tMax: 39.7\tMean: 38.3\tMov. Avg: 26.7\n",
      "Episode 81 (219 sec)  -- \tMin: 29.9\tMax: 39.3\tMean: 36.6\tMov. Avg: 26.8\n",
      "Episode 82 (220 sec)  -- \tMin: 35.7\tMax: 39.6\tMean: 38.9\tMov. Avg: 27.0\n",
      "Episode 83 (223 sec)  -- \tMin: 36.4\tMax: 39.5\tMean: 37.9\tMov. Avg: 27.1\n",
      "Episode 84 (223 sec)  -- \tMin: 37.4\tMax: 39.6\tMean: 39.0\tMov. Avg: 27.2\n",
      "Episode 85 (220 sec)  -- \tMin: 35.9\tMax: 39.6\tMean: 38.1\tMov. Avg: 27.4\n",
      "Episode 86 (221 sec)  -- \tMin: 35.1\tMax: 39.6\tMean: 38.5\tMov. Avg: 27.5\n",
      "Episode 87 (221 sec)  -- \tMin: 36.0\tMax: 39.5\tMean: 38.7\tMov. Avg: 27.6\n",
      "Episode 88 (221 sec)  -- \tMin: 36.7\tMax: 39.6\tMean: 38.8\tMov. Avg: 27.8\n",
      "Episode 89 (221 sec)  -- \tMin: 32.7\tMax: 39.6\tMean: 38.1\tMov. Avg: 27.9\n",
      "Episode 90 (222 sec)  -- \tMin: 35.1\tMax: 39.5\tMean: 37.6\tMov. Avg: 28.0\n",
      "Episode 91 (222 sec)  -- \tMin: 36.4\tMax: 39.6\tMean: 38.8\tMov. Avg: 28.1\n",
      "Episode 92 (222 sec)  -- \tMin: 33.6\tMax: 39.6\tMean: 38.0\tMov. Avg: 28.2\n",
      "Episode 93 (222 sec)  -- \tMin: 37.3\tMax: 39.6\tMean: 38.5\tMov. Avg: 28.3\n",
      "Episode 94 (222 sec)  -- \tMin: 31.1\tMax: 39.5\tMean: 37.6\tMov. Avg: 28.4\n",
      "Episode 95 (222 sec)  -- \tMin: 31.8\tMax: 39.6\tMean: 38.4\tMov. Avg: 28.5\n",
      "Episode 96 (222 sec)  -- \tMin: 35.2\tMax: 39.4\tMean: 37.9\tMov. Avg: 28.6\n",
      "Episode 97 (221 sec)  -- \tMin: 33.8\tMax: 39.6\tMean: 38.5\tMov. Avg: 28.7\n",
      "Episode 98 (221 sec)  -- \tMin: 33.0\tMax: 39.4\tMean: 38.1\tMov. Avg: 28.8\n",
      "Episode 99 (222 sec)  -- \tMin: 30.0\tMax: 39.3\tMean: 36.7\tMov. Avg: 28.9\n",
      "Episode 100 (221 sec)  -- \tMin: 35.8\tMax: 39.3\tMean: 37.7\tMov. Avg: 29.0\n",
      "Episode 101 (221 sec)  -- \tMin: 31.9\tMax: 39.6\tMean: 38.0\tMov. Avg: 29.1\n",
      "Episode 102 (220 sec)  -- \tMin: 32.0\tMax: 39.3\tMean: 37.1\tMov. Avg: 29.2\n",
      "Episode 103 (221 sec)  -- \tMin: 34.8\tMax: 39.5\tMean: 38.2\tMov. Avg: 29.2\n",
      "Episode 104 (221 sec)  -- \tMin: 34.3\tMax: 39.3\tMean: 37.4\tMov. Avg: 29.3\n",
      "Episode 105 (221 sec)  -- \tMin: 34.9\tMax: 39.4\tMean: 38.1\tMov. Avg: 29.4\n",
      "Episode 106 (221 sec)  -- \tMin: 36.3\tMax: 39.6\tMean: 38.5\tMov. Avg: 29.5\n",
      "Episode 107 (222 sec)  -- \tMin: 32.5\tMax: 39.5\tMean: 37.3\tMov. Avg: 29.6\n",
      "Episode 108 (223 sec)  -- \tMin: 34.2\tMax: 39.2\tMean: 37.7\tMov. Avg: 29.6\n",
      "Episode 109 (222 sec)  -- \tMin: 37.1\tMax: 39.6\tMean: 38.9\tMov. Avg: 29.7\n",
      "Episode 110 (223 sec)  -- \tMin: 35.9\tMax: 39.6\tMean: 38.2\tMov. Avg: 29.8\n",
      "Episode 111 (223 sec)  -- \tMin: 33.8\tMax: 39.5\tMean: 38.2\tMov. Avg: 29.9\n",
      "Episode 112 (222 sec)  -- \tMin: 36.5\tMax: 39.6\tMean: 38.4\tMov. Avg: 29.9\n",
      "Episode 113 (222 sec)  -- \tMin: 36.8\tMax: 39.5\tMean: 38.5\tMov. Avg: 30.0\n",
      "\n",
      "Environment SOLVED in 113 episodes!\tMoving Average =30.0 over last 100 episodes\n"
     ]
    }
   ],
   "source": [
    "scores, avgs = ddpg(Agent(state_size=state_size, action_size=action_size, random_seed=1))"
   ]
  },
  {
   "cell_type": "code",
   "execution_count": 10,
   "metadata": {},
   "outputs": [
    {
     "data": {
      "image/png": "[encoded data removed]",
      "text/plain": [
       "<matplotlib.figure.Figure at 0x7fae8f0af908>"
      ]
     },
     "metadata": {
      "needs_background": "light"
     },
     "output_type": "display_data"
    },
    {
     "data": {
      "text/plain": [
       "<matplotlib.figure.Figure at 0x7faef04ad320>"
      ]
     },
     "metadata": {},
     "output_type": "display_data"
    }
   ],
   "source": [
    "fig = plt.figure()\n",
    "ax = fig.add_subplot(111)\n",
    "plt.plot(np.arange(1, len(scores)+1), scores)\n",
    "plt.ylabel('Score')\n",
    "plt.xlabel('Episode #')\n",
    "plt.show()\n",
    "plt.savefig('Score plot')"
   ]
  },
  {
   "cell_type": "code",
   "execution_count": 11,
   "metadata": {},
   "outputs": [
    {
     "data": {
      "image/png": "[encoded data removed]",
      "text/plain": [
       "<matplotlib.figure.Figure at 0x7fae9332d198>"
      ]
     },
     "metadata": {
      "needs_background": "light"
     },
     "output_type": "display_data"
    },
    {
     "data": {
      "text/plain": [
       "<matplotlib.figure.Figure at 0x7faea668dfd0>"
      ]
     },
     "metadata": {},
     "output_type": "display_data"
    }
   ],
   "source": [
    "fig = plt.figure()\n",
    "ax = fig.add_subplot(111)\n",
    "plt.plot(np.arange(1, len(avgs)+1), avgs)\n",
    "plt.ylabel('Average')\n",
    "plt.xlabel('Episode #')\n",
    "plt.show()\n",
    "plt.savefig('Average plot')"
   ]
  },
  {
   "cell_type": "code",
   "execution_count": null,
   "metadata": {},
   "outputs": [],
   "source": []
  }
 ],
 "metadata": {
  "kernelspec": {
   "display_name": "Python 3",
   "language": "python",
   "name": "python3"
  },
  "language_info": {
   "codemirror_mode": {
    "name": "ipython",
    "version": 3
   },
   "file_extension": ".py",
   "mimetype": "text/x-python",
   "name": "python",
   "nbconvert_exporter": "python",
   "pygments_lexer": "ipython3",
   "version": "3.6.3"
  }
 },
 "nbformat": 4,
 "nbformat_minor": 2
}
